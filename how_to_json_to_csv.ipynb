{
 "cells": [
  {
   "cell_type": "markdown",
   "id": "bdf2054d",
   "metadata": {},
   "source": [
    "# Libraries"
   ]
  },
  {
   "cell_type": "code",
   "execution_count": 29,
   "id": "59526a8b",
   "metadata": {},
   "outputs": [],
   "source": [
    "import requests\n",
    "from time import sleep\n",
    "\n",
    "import pandas as pd\n",
    "import numpy as np"
   ]
  },
  {
   "cell_type": "code",
   "execution_count": 8,
   "id": "d47a6aba",
   "metadata": {},
   "outputs": [],
   "source": [
    "def api_json():\n",
    "    #link of the API\n",
    "    link = 'https://api.wheretheiss.at/v1/satellites/25544'\n",
    "    \n",
    "    #retrieving the JSON\n",
    "    json = requests.get(link).json()\n",
    "    \n",
    "    #getting columns and values from the JSON\n",
    "    columns = json.keys()\n",
    "    values = json.values()\n",
    "    \n",
    "    #returning the JSON, the columns and the values\n",
    "    return json, columns, values\n",
    "\n",
    "api, columns, values = api_json()"
   ]
  },
  {
   "cell_type": "markdown",
   "id": "90d32673",
   "metadata": {},
   "source": [
    "# Creating Database"
   ]
  },
  {
   "cell_type": "code",
   "execution_count": 36,
   "id": "694fe1c4",
   "metadata": {},
   "outputs": [],
   "source": [
    "def create_dataset():\n",
    "    database = open(\"dataset.txt\", \"a\")\n",
    "\n",
    "    counter = 0\n",
    "    for column in columns:\n",
    "        if counter == len(columns) - 1:\n",
    "            database.write(column + '\\n')\n",
    "        else:\n",
    "            database.write(column + ',')\n",
    "        counter = counter + 1\n",
    "    database.close()"
   ]
  },
  {
   "cell_type": "code",
   "execution_count": 32,
   "id": "35a4e795",
   "metadata": {},
   "outputs": [],
   "source": [
    "def writing_values(n_rows, interval_seconds):\n",
    "    counter = 0\n",
    "    for i in range(n_rows):\n",
    "        api, columns, values = api_json()\n",
    "\n",
    "        for value in values:\n",
    "            database = open(\"dataset.txt\", \"a\")\n",
    "\n",
    "            if counter == len(values) - 1:\n",
    "                database.write(str(value) + '\\n')\n",
    "                pass\n",
    "            else:\n",
    "                database.write(str(value) + ',')\n",
    "\n",
    "            counter = counter + 1\n",
    "        counter = 0\n",
    "        sleep(interval_seconds)\n",
    "    database.close()\n"
   ]
  },
  {
   "cell_type": "code",
   "execution_count": 37,
   "id": "5419c001",
   "metadata": {},
   "outputs": [],
   "source": [
    "create_dataset()"
   ]
  },
  {
   "cell_type": "code",
   "execution_count": 38,
   "id": "ea797532",
   "metadata": {},
   "outputs": [],
   "source": [
    "writing_values(5, 3)"
   ]
  },
  {
   "cell_type": "markdown",
   "id": "05af8310",
   "metadata": {},
   "source": [
    "# Checking the CSV with Pandas"
   ]
  },
  {
   "cell_type": "code",
   "execution_count": 39,
   "id": "bb034320",
   "metadata": {},
   "outputs": [
    {
     "data": {
      "text/html": [
       "<div>\n",
       "<style scoped>\n",
       "    .dataframe tbody tr th:only-of-type {\n",
       "        vertical-align: middle;\n",
       "    }\n",
       "\n",
       "    .dataframe tbody tr th {\n",
       "        vertical-align: top;\n",
       "    }\n",
       "\n",
       "    .dataframe thead th {\n",
       "        text-align: right;\n",
       "    }\n",
       "</style>\n",
       "<table border=\"1\" class=\"dataframe\">\n",
       "  <thead>\n",
       "    <tr style=\"text-align: right;\">\n",
       "      <th></th>\n",
       "      <th>name</th>\n",
       "      <th>id</th>\n",
       "      <th>latitude</th>\n",
       "      <th>longitude</th>\n",
       "      <th>altitude</th>\n",
       "      <th>velocity</th>\n",
       "      <th>visibility</th>\n",
       "      <th>footprint</th>\n",
       "      <th>timestamp</th>\n",
       "      <th>daynum</th>\n",
       "      <th>solar_lat</th>\n",
       "      <th>solar_lon</th>\n",
       "      <th>units</th>\n",
       "    </tr>\n",
       "  </thead>\n",
       "  <tbody>\n",
       "    <tr>\n",
       "      <th>0</th>\n",
       "      <td>iss</td>\n",
       "      <td>25544</td>\n",
       "      <td>22.763353</td>\n",
       "      <td>23.096429</td>\n",
       "      <td>419.601745</td>\n",
       "      <td>27587.541694</td>\n",
       "      <td>daylight</td>\n",
       "      <td>4505.436763</td>\n",
       "      <td>1633798930</td>\n",
       "      <td>2.459497e+06</td>\n",
       "      <td>-6.536658</td>\n",
       "      <td>281.249076</td>\n",
       "      <td>kilometers</td>\n",
       "    </tr>\n",
       "    <tr>\n",
       "      <th>1</th>\n",
       "      <td>iss</td>\n",
       "      <td>25544</td>\n",
       "      <td>22.619118</td>\n",
       "      <td>23.224931</td>\n",
       "      <td>419.596044</td>\n",
       "      <td>27587.480217</td>\n",
       "      <td>daylight</td>\n",
       "      <td>4505.407742</td>\n",
       "      <td>1633798933</td>\n",
       "      <td>2.459497e+06</td>\n",
       "      <td>-6.536671</td>\n",
       "      <td>281.236573</td>\n",
       "      <td>kilometers</td>\n",
       "    </tr>\n",
       "    <tr>\n",
       "      <th>2</th>\n",
       "      <td>iss</td>\n",
       "      <td>25544</td>\n",
       "      <td>22.426613</td>\n",
       "      <td>23.395809</td>\n",
       "      <td>419.588715</td>\n",
       "      <td>27587.397687</td>\n",
       "      <td>daylight</td>\n",
       "      <td>4505.370434</td>\n",
       "      <td>1633798937</td>\n",
       "      <td>2.459497e+06</td>\n",
       "      <td>-6.536689</td>\n",
       "      <td>281.219903</td>\n",
       "      <td>kilometers</td>\n",
       "    </tr>\n",
       "    <tr>\n",
       "      <th>3</th>\n",
       "      <td>iss</td>\n",
       "      <td>25544</td>\n",
       "      <td>22.233884</td>\n",
       "      <td>23.566171</td>\n",
       "      <td>419.581700</td>\n",
       "      <td>27587.314513</td>\n",
       "      <td>daylight</td>\n",
       "      <td>4505.334723</td>\n",
       "      <td>1633798941</td>\n",
       "      <td>2.459497e+06</td>\n",
       "      <td>-6.536706</td>\n",
       "      <td>281.203234</td>\n",
       "      <td>kilometers</td>\n",
       "    </tr>\n",
       "    <tr>\n",
       "      <th>4</th>\n",
       "      <td>iss</td>\n",
       "      <td>25544</td>\n",
       "      <td>22.040940</td>\n",
       "      <td>23.736020</td>\n",
       "      <td>419.575001</td>\n",
       "      <td>27587.230694</td>\n",
       "      <td>daylight</td>\n",
       "      <td>4505.300623</td>\n",
       "      <td>1633798945</td>\n",
       "      <td>2.459497e+06</td>\n",
       "      <td>-6.536724</td>\n",
       "      <td>281.186564</td>\n",
       "      <td>kilometers</td>\n",
       "    </tr>\n",
       "  </tbody>\n",
       "</table>\n",
       "</div>"
      ],
      "text/plain": [
       "  name     id   latitude  longitude    altitude      velocity visibility  \\\n",
       "0  iss  25544  22.763353  23.096429  419.601745  27587.541694   daylight   \n",
       "1  iss  25544  22.619118  23.224931  419.596044  27587.480217   daylight   \n",
       "2  iss  25544  22.426613  23.395809  419.588715  27587.397687   daylight   \n",
       "3  iss  25544  22.233884  23.566171  419.581700  27587.314513   daylight   \n",
       "4  iss  25544  22.040940  23.736020  419.575001  27587.230694   daylight   \n",
       "\n",
       "     footprint   timestamp        daynum  solar_lat   solar_lon       units  \n",
       "0  4505.436763  1633798930  2.459497e+06  -6.536658  281.249076  kilometers  \n",
       "1  4505.407742  1633798933  2.459497e+06  -6.536671  281.236573  kilometers  \n",
       "2  4505.370434  1633798937  2.459497e+06  -6.536689  281.219903  kilometers  \n",
       "3  4505.334723  1633798941  2.459497e+06  -6.536706  281.203234  kilometers  \n",
       "4  4505.300623  1633798945  2.459497e+06  -6.536724  281.186564  kilometers  "
      ]
     },
     "execution_count": 39,
     "metadata": {},
     "output_type": "execute_result"
    }
   ],
   "source": [
    "df = pd.read_csv('dataset.txt')\n",
    "df"
   ]
  },
  {
   "cell_type": "code",
   "execution_count": null,
   "id": "b4bf774b",
   "metadata": {},
   "outputs": [],
   "source": []
  }
 ],
 "metadata": {
  "kernelspec": {
   "display_name": "Python 3 (ipykernel)",
   "language": "python",
   "name": "python3"
  },
  "language_info": {
   "codemirror_mode": {
    "name": "ipython",
    "version": 3
   },
   "file_extension": ".py",
   "mimetype": "text/x-python",
   "name": "python",
   "nbconvert_exporter": "python",
   "pygments_lexer": "ipython3",
   "version": "3.9.6"
  }
 },
 "nbformat": 4,
 "nbformat_minor": 5
}
